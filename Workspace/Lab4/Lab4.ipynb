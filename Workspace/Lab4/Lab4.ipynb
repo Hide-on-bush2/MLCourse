{
 "cells": [
  {
   "cell_type": "markdown",
   "metadata": {},
   "source": [
    "# Lab4 Numpy & Matplotlib & Pandas实践"
   ]
  },
  {
   "cell_type": "markdown",
   "metadata": {},
   "source": [
    "## 学习笔记"
   ]
  },
  {
   "cell_type": "markdown",
   "metadata": {},
   "source": [
    "### Numpy"
   ]
  },
  {
   "cell_type": "markdown",
   "metadata": {},
   "source": [
    "#### 数据类型\n",
    "\n",
    "|Numpy 的类型|C 的类型|描述|\n",
    "|:-----:|:---:|:--:|\n",
    "|np.bool|bool|存储为字节的布尔值（True或False）|\n",
    "|np.byte|signed char|平台定义|\n",
    "|np.ubyte|unsigned char|平台定义|\n",
    "|np.short|short|平台定义|\n",
    "|np.ushort|unsigned short|平台定义|\n",
    "|np.intc|int|平台定义|\n",
    "|np.uintc|unsigned int|平台定义|\n",
    "|np.int_|long|平台定义|\n",
    "|np.uint|unsigned long|平台定义|\n",
    "|np.longlong|long long|平台定义|\n",
    "|np.ulonglong|unsigned long long|平台定义|\n",
    "|np.half/np.float16||半精度浮点数：符号位，5位指数，10位尾数|\n",
    "|np.single|float|平台定义的单精度浮点数：通常为符号位，8位指数，23位尾数|\n",
    "|np.double|double|平台定义的双精度浮点数：通常为符号位，11位指数，52位尾数|\n",
    "|np.longdouble|long double|平台定义的扩展精度浮点数|\n",
    "|np.csingle|float complex|复数，由两个单精度浮点数（实部和虚部）表示|\n",
    "|np.cdouble|double complex|复数，由两个双精度浮点数（实部和虚部）表示|\n",
    "|np.clongdouble\tlong|double complex|复数，由两个扩展精度浮点数（实部和虚部）表示|"
   ]
  },
  {
   "cell_type": "markdown",
   "metadata": {},
   "source": [
    "此外因为很多数据结构依赖与平台的定义，Numpy也定义定义了一些定长的数据结构\n",
    "\n",
    "|Numpy 的类型|C 的类型|描述|\n",
    "|:---------:|:-----:|:-:|\n",
    "|np.int8|int8_t|字节（-128到127）|\n",
    "|np.int16|int16_t|整数（-32768至32767）|\n",
    "|np.int32|int32_t|整数（-2147483648至2147483647）|\n",
    "|np.int64|int64_t|整数（-9223372036854775808至9223372036854775807）|\n",
    "|np.uint8|uint8_t|无符号整数（0到255）|\n",
    "|np.uint16|uint16_t|无符号整数（0到65535）|\n",
    "|np.uint32|uint32_t|无符号整数（0到4294967295）|\n",
    "|np.uint64|uint64_t|无符号整数（0到18446744073709551615）|\n",
    "|np.intp|intptr_t|用于索引的整数，通常与索引相同 ssize_t|\n",
    "|np.uintp|uintptr_t|整数大到足以容纳指针|\n",
    "|np.float32|float|\t|\n",
    "|np.float64 / np.float_\tdouble|\t|请注意，这与内置python float的精度相匹配|\n",
    "|np.complex64|float complex|复数，由两个32位浮点数（实数和虚数组件）表示|\n",
    "|np.complex128 / np.complex_|double complex|请注意，这与内置python 复合体的精度相匹配|"
   ]
  },
  {
   "cell_type": "markdown",
   "metadata": {},
   "source": [
    "#### 数组"
   ]
  },
  {
   "cell_type": "markdown",
   "metadata": {},
   "source": [
    "数组是Numpy中最重要的数据结构，相当于线性代数中的矩阵或者张量"
   ]
  },
  {
   "cell_type": "markdown",
   "metadata": {},
   "source": [
    "用Numpy创建数组有以下几种办法：\n",
    "* 将`Python array_like`对象转换为Numpy数组\n",
    "* 直接用函数创建\n",
    "* 从磁盘中读取数组\n",
    "* 使用特殊库"
   ]
  },
  {
   "cell_type": "markdown",
   "metadata": {},
   "source": [
    "对数组进行索引有以下方法：\n",
    "* 单个元素进行索引：`x[i]`\n",
    "* 切片索引: `x[i, i+j]`\n",
    "* 使用其他数据进行索引: `x[np.array([a, b, c])]`\n",
    "* 布尔或“掩码”索引: `y[y>a]`"
   ]
  },
  {
   "cell_type": "markdown",
   "metadata": {},
   "source": [
    "Numpy的广播机制：\n",
    "广播机制是为了方便程序员和提高速度而实现的。受某些约束的影响，较小的数组在较大的数组上“广播”，以便它们具有兼容的形状。广播提供了一种矢量化数组操作的方法，以便在C而不是Python中进行循环。它可以在不制作不必要的数据副本的情况下实现这一点，通常导致高效的算法实现。但是，有些情况下广播是一个坏主意，因为它会导致内存使用效率低下，从而减慢计算速度。"
   ]
  },
  {
   "cell_type": "markdown",
   "metadata": {},
   "source": [
    "最简单的广播的例子："
   ]
  },
  {
   "cell_type": "code",
   "execution_count": 3,
   "metadata": {},
   "outputs": [
    {
     "data": {
      "text/plain": [
       "array([2., 4., 6.])"
      ]
     },
     "execution_count": 3,
     "metadata": {},
     "output_type": "execute_result"
    }
   ],
   "source": [
    "import numpy as np\n",
    "a = np.array([1.0, 2.0, 3.0])\n",
    "b = 2.0\n",
    "a * b"
   ]
  },
  {
   "cell_type": "markdown",
   "metadata": {},
   "source": [
    "在上面的示例中，b被拉伸成与a相同形状的数组"
   ]
  },
  {
   "cell_type": "markdown",
   "metadata": {},
   "source": [
    "改变数组的形状\n",
    "* `ndarray.reshape(shape)`\n",
    "* `ndarray.resize(shape)`\n",
    "* `ndarray.flatten()`\n",
    "* `ndarray.ravel()`"
   ]
  },
  {
   "cell_type": "markdown",
   "metadata": {},
   "source": [
    "Numpy的随机函数：\n",
    "* 简单随机数\n",
    "    * `np.random.rand`\n",
    "    * `np.random.randn`\n",
    "    * `np.random.randint`\n",
    "* 生成器\n",
    "    * `np.random.seed`\n",
    "* 排列：\n",
    "    * `np.random.shuffle`\n",
    "* 随机选择：\n",
    "    * `np.random.choice`\n",
    "* 分布：\n",
    "    * `np.random.uniform`\n",
    "    * `np.random.normal`\n",
    "    * `np.random.poisson`"
   ]
  },
  {
   "cell_type": "markdown",
   "metadata": {},
   "source": [
    "数组元素间的运算：\n",
    "* `np.abs(a)`\n",
    "* `np.square(a)`\n",
    "* `np.log(a)`\n",
    "* `np.log2(a)`\n",
    "* `np.log10(a)`\n",
    "* `np.ceil(a)`\n",
    "* `np.rint(a)`\n",
    "* `np.exp(a)`\n",
    "* `np.sign(a)`\n",
    "* `np.mod(a, b)`"
   ]
  },
  {
   "cell_type": "markdown",
   "metadata": {},
   "source": [
    "Numpy统计函数：\n",
    "* `np.mean(x[, axis])`\n",
    "* `np.sum(x[, axis])`\n",
    "* `np.max(x[, axis])`\n",
    "* `np.min(x[, axis])`\n",
    "* `np.std(x[, axis])`\n",
    "* `np.var(x[, axis]`\n",
    "* `np.argmax(x[, axis])`\n",
    "* `np.argmin(x[, axis])`"
   ]
  },
  {
   "cell_type": "markdown",
   "metadata": {},
   "source": [
    "Numpy矩阵：\n",
    "* 创建：`np.mat(a)`（a是一个数组）\n",
    "* 矩阵相乘：`A*B`\n",
    "* 矩阵转置：`A.T`\n",
    "* 矩阵求逆：`A.I`\n",
    "* 奇异值分解：`np.linalg.svd`"
   ]
  },
  {
   "cell_type": "markdown",
   "metadata": {},
   "source": [
    "### Matplotlib"
   ]
  },
  {
   "cell_type": "markdown",
   "metadata": {},
   "source": [
    "导入："
   ]
  },
  {
   "cell_type": "code",
   "execution_count": 2,
   "metadata": {},
   "outputs": [],
   "source": [
    "import matplotlib.pyplot as plt"
   ]
  },
  {
   "cell_type": "markdown",
   "metadata": {},
   "source": [
    "`plt.figure()`创建一个全局绘图区域，并且试它成为当前的绘图对象，传入的参数如下：\n",
    "* `num`:图形编号或名称\n",
    "* `figsize`:绘图对象的宽和高\n",
    "* `dpi`:绘图对象的分辨率，缺省值为80\n",
    "* `facecolor`:背景颜色\n",
    "* `edgecolor`:边框颜色\n",
    "* `frameon`:表示是否显示边框\n",
    "示例："
   ]
  },
  {
   "cell_type": "code",
   "execution_count": 5,
   "metadata": {},
   "outputs": [
    {
     "data": {
      "image/png": "[encoded data removed]",
      "text/plain": [
       "<Figure size 432x288 with 1 Axes>"
      ]
     },
     "metadata": {
      "needs_background": "light"
     },
     "output_type": "display_data"
    }
   ],
   "source": [
    "# 在jupyter中展示图\n",
    "%matplotlib inline\n",
    "# 创建一个全局绘图区域（画布）\n",
    "plt.figure()\n",
    "# 绘制空白区\n",
    "plt.plot()\n",
    "# 显示绘图\n",
    "plt.show()"
   ]
  },
  {
   "cell_type": "markdown",
   "metadata": {},
   "source": [
    "`plt.subplot`函数在全局绘图区域中创建一个子绘图区域:\n",
    "* 当`plt.subplot()`函数中的3个参数都小于10时，可以省略参数间的逗号，用一个三位数来表示\n",
    "* 每个`plt.subplot()`函数只创建一个子图"
   ]
  },
  {
   "cell_type": "markdown",
   "metadata": {},
   "source": [
    "示例：将画布划分为$2\\times 2$的子图区域，并绘制4个子图"
   ]
  },
  {
   "cell_type": "code",
   "execution_count": 13,
   "metadata": {},
   "outputs": [
    {
     "data": {
      "text/plain": [
       "<matplotlib.axes._subplots.AxesSubplot at 0x7fdb18285ee0>"
      ]
     },
     "execution_count": 13,
     "metadata": {},
     "output_type": "execute_result"
    },
    {
     "data": {
      "image/png": "[encoded data removed]",
      "text/plain": [
       "<Figure size 432x288 with 4 Axes>"
      ]
     },
     "metadata": {
      "needs_background": "light"
     },
     "output_type": "display_data"
    }
   ],
   "source": [
    "# 在全局绘图区域内创建子绘图区域\n",
    "plt.subplot(321)\n",
    "plt.subplot(322)\n",
    "plt.subplot(323)\n",
    "plt.subplot(324)"
   ]
  },
  {
   "cell_type": "markdown",
   "metadata": {},
   "source": [
    "设置中文字体：`plt.rcParams[\"font.sans-serif\"] = \"SimHei\"`"
   ]
  },
  {
   "cell_type": "markdown",
   "metadata": {},
   "source": [
    "添加全局标题：`plt.suptitle(\"title\")`"
   ]
  },
  {
   "cell_type": "markdown",
   "metadata": {},
   "source": [
    "添加子标题：`plt.title(\"title)`"
   ]
  },
  {
   "cell_type": "code",
   "execution_count": 17,
   "metadata": {},
   "outputs": [
    {
     "data": {
      "image/png": "[encoded data removed]",
      "text/plain": [
       "<Figure size 432x288 with 4 Axes>"
      ]
     },
     "metadata": {
      "needs_background": "light"
     },
     "output_type": "display_data"
    }
   ],
   "source": [
    "# 示例：将画布划分为2X2的子图区域，并绘制4个子图\n",
    "import matplotlib.pyplot as plt\n",
    "%matplotlib inline \n",
    "\n",
    "plt.suptitle(\"global title\", fontsize=12, color=\"red\", backgroundcolor=\"yellow\")\n",
    "\n",
    "plt.subplot(321)\n",
    "plt.title(\"subtitle1\")\n",
    "\n",
    "plt.subplot(322)\n",
    "plt.title(\"subtitle2\")\n",
    "\n",
    "plt.subplot(323)\n",
    "plt.title(\"subtitle3\")\n",
    "\n",
    "plt.subplot(324)\n",
    "plt.title(\"subtitle4\")\n",
    "\n",
    "plt.tight_layout(rect=[0,0,1,0.9])"
   ]
  },
  {
   "cell_type": "markdown",
   "metadata": {},
   "source": [
    "绘制散点图示例："
   ]
  },
  {
   "cell_type": "code",
   "execution_count": 18,
   "metadata": {},
   "outputs": [
    {
     "data": {
      "text/plain": [
       "Text(0, 0.5, 'y')"
      ]
     },
     "execution_count": 18,
     "metadata": {},
     "output_type": "execute_result"
    },
    {
     "name": "stderr",
     "output_type": "stream",
     "text": [
      "findfont: Font family ['sans-serif'] not found. Falling back to DejaVu Sans.\n",
      "findfont: Font family ['sans-serif'] not found. Falling back to DejaVu Sans.\n"
     ]
    },
    {
     "data": {
      "image/png": "[encoded data removed]",
      "text/plain": [
       "<Figure size 432x288 with 1 Axes>"
      ]
     },
     "metadata": {
      "needs_background": "light"
     },
     "output_type": "display_data"
    }
   ],
   "source": [
    "import numpy as np\n",
    "import matplotlib.pyplot as plt\n",
    "%matplotlib inline\n",
    "\n",
    "# 标准正态分布的散点坐标\n",
    "n = 1024\n",
    "x = np.random.normal(0, 1, n)\n",
    "y = np.random.normal(0, 1, n)\n",
    "\n",
    "# 绘制散点图\n",
    "plt.scatter(x, y, color=\"blue\", marker=\"*\")\n",
    "\n",
    "# 设置标题\n",
    "plt.title(\"normal\", fontsize=20)\n",
    "\n",
    "# 设置文本\n",
    "plt.text(2.5, 2.5, \"Mean: 0\\nvarianc: 1\")\n",
    "\n",
    "# 设置坐标轴范围\n",
    "plt.xlim(-4, 4)\n",
    "plt.ylim(-4, 4)\n",
    "\n",
    "# 设置坐标轴标签\n",
    "plt.xlabel(\"x\", fontsize=14)\n",
    "plt.ylabel(\"y\", fontsize=14)"
   ]
  },
  {
   "cell_type": "markdown",
   "metadata": {},
   "source": [
    "绘制正态分布、均匀分布的散点图："
   ]
  },
  {
   "cell_type": "code",
   "execution_count": 22,
   "metadata": {},
   "outputs": [
    {
     "data": {
      "text/plain": [
       "Text(0, 0.5, 'y')"
      ]
     },
     "execution_count": 22,
     "metadata": {},
     "output_type": "execute_result"
    },
    {
     "data": {
      "image/png": "[encoded data removed]",
      "text/plain": [
       "<Figure size 432x288 with 1 Axes>"
      ]
     },
     "metadata": {
      "needs_background": "light"
     },
     "output_type": "display_data"
    }
   ],
   "source": [
    "import numpy as np\n",
    "import matplotlib.pyplot as plt\n",
    "\n",
    "%matplotlib inline \n",
    "\n",
    "# 正态分布和均匀分布的散点坐标\n",
    "n = 512\n",
    "x1 = np.random.normal(0, 1, n)\n",
    "y1 = np.random.normal(0, 1, n)\n",
    "\n",
    "x2 = np.random.uniform(-4, 4, n)\n",
    "y2 = np.random.uniform(-4, 4, n)\n",
    "\n",
    "# 绘制散点图\n",
    "plt.scatter(x1, y1, color=\"blue\", marker=\"*\", label=\"nornal\")\n",
    "plt.scatter(x2, y2, color=\"green\", marker=\"*\", label=\"uniform\")\n",
    "plt.legend()\n",
    "\n",
    "# 设置标题\n",
    "plt.title(\"normal and uniform\", fontsize=20)\n",
    "\n",
    "# 设置坐标轴范围\n",
    "plt.xlim(-4, 4)\n",
    "plt.ylim(-4, 4)\n",
    "\n",
    "#设置坐标轴标签\n",
    "plt.xlabel(\"x\", fontsize=14)\n",
    "plt.ylabel(\"y\", fontsize=14)"
   ]
  },
  {
   "cell_type": "markdown",
   "metadata": {},
   "source": [
    "另外的一些操作：\n",
    "* 彩色映射：`plt.scatter(x, y, c, cmap)`\n",
    "* 在散点图基础上将相邻点用线段相连接：`plt.plot(x, y, marker, label, linewidth, markersize)`\n",
    "* 柱状图：`plt.bar(left, height, width, facecolor, edgecolor, label)`\n",
    "* 横向条形图：`plt.barh(bottom, width, height, left)`\n",
    "* 饼图：`plt.pie(data, explode)`\n",
    "* 等高线图：`plt.contour(x, y, z)`\n",
    "* 直方图：`plt.hist(x, bins, normed)`"
   ]
  },
  {
   "cell_type": "markdown",
   "metadata": {},
   "source": [
    "plt的更多函数：\n",
    "![](https://tva1.sinaimg.cn/large/007S8ZIlgy1gjiwzo13sbj31o60mcdpl.jpg)"
   ]
  },
  {
   "cell_type": "markdown",
   "metadata": {},
   "source": [
    "### pandas"
   ]
  },
  {
   "cell_type": "markdown",
   "metadata": {},
   "source": [
    "数据类型：\n",
    "* Series：`pd.Series(data, index=index)`\n",
    "* DataFrame: `pd.DataFrame(data=None, index=None, columns=None, dtype=None, copy=False)`"
   ]
  },
  {
   "cell_type": "markdown",
   "metadata": {},
   "source": [
    "`DataFrame`的基本操作：\n",
    "![](https://tva1.sinaimg.cn/large/007S8ZIlgy1gjix7ub0aaj314i0lc0yg.jpg)"
   ]
  },
  {
   "cell_type": "markdown",
   "metadata": {},
   "source": [
    "pandas读写文件：\n",
    "* 写入csv文件：`df.tocsv()`\n",
    "* 读取csv文件：`pd.read_csv()`\n",
    "* 写入Excel文件：`df.to_excel()`\n",
    "* 读取Excel文件：`pd.read_excel()`"
   ]
  },
  {
   "cell_type": "code",
   "execution_count": null,
   "metadata": {},
   "outputs": [],
   "source": []
  }
 ],
 "metadata": {
  "kernelspec": {
   "display_name": "Python 3",
   "language": "python",
   "name": "python3"
  },
  "language_info": {
   "codemirror_mode": {
    "name": "ipython",
    "version": 3
   },
   "file_extension": ".py",
   "mimetype": "text/x-python",
   "name": "python",
   "nbconvert_exporter": "python",
   "pygments_lexer": "ipython3",
   "version": "3.8.0"
  }
 },
 "nbformat": 4,
 "nbformat_minor": 4
}
