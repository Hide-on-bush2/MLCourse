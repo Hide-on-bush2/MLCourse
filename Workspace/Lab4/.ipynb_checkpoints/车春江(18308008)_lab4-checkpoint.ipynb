{
 "cells": [
  {
   "cell_type": "markdown",
   "metadata": {},
   "source": [
    "# Lab4 Numpy & Matplotlib & Pandas实践"
   ]
  },
  {
   "cell_type": "markdown",
   "metadata": {},
   "source": [
    "* 姓名：车春江\n",
    "* 学号：18308008\n",
    "* 学院：数据科学与计算机学院\n",
    "* 专业：软件工程"
   ]
  },
  {
   "cell_type": "markdown",
   "metadata": {},
   "source": [
    "## 学习笔记"
   ]
  },
  {
   "cell_type": "markdown",
   "metadata": {},
   "source": [
    "### Numpy"
   ]
  },
  {
   "cell_type": "markdown",
   "metadata": {},
   "source": [
    "#### 数据类型\n",
    "\n",
    "|Numpy 的类型|C 的类型|描述|\n",
    "|:-----:|:---:|:--:|\n",
    "|np.bool|bool|存储为字节的布尔值（True或False）|\n",
    "|np.byte|signed char|平台定义|\n",
    "|np.ubyte|unsigned char|平台定义|\n",
    "|np.short|short|平台定义|\n",
    "|np.ushort|unsigned short|平台定义|\n",
    "|np.intc|int|平台定义|\n",
    "|np.uintc|unsigned int|平台定义|\n",
    "|np.int_|long|平台定义|\n",
    "|np.uint|unsigned long|平台定义|\n",
    "|np.longlong|long long|平台定义|\n",
    "|np.ulonglong|unsigned long long|平台定义|\n",
    "|np.half/np.float16||半精度浮点数：符号位，5位指数，10位尾数|\n",
    "|np.single|float|平台定义的单精度浮点数：通常为符号位，8位指数，23位尾数|\n",
    "|np.double|double|平台定义的双精度浮点数：通常为符号位，11位指数，52位尾数|\n",
    "|np.longdouble|long double|平台定义的扩展精度浮点数|\n",
    "|np.csingle|float complex|复数，由两个单精度浮点数（实部和虚部）表示|\n",
    "|np.cdouble|double complex|复数，由两个双精度浮点数（实部和虚部）表示|\n",
    "|np.clongdouble\tlong|double complex|复数，由两个扩展精度浮点数（实部和虚部）表示|"
   ]
  },
  {
   "cell_type": "markdown",
   "metadata": {},
   "source": [
    "此外因为很多数据结构依赖与平台的定义，Numpy也定义定义了一些定长的数据结构\n",
    "\n",
    "|Numpy 的类型|C 的类型|描述|\n",
    "|:---------:|:-----:|:-:|\n",
    "|np.int8|int8_t|字节（-128到127）|\n",
    "|np.int16|int16_t|整数（-32768至32767）|\n",
    "|np.int32|int32_t|整数（-2147483648至2147483647）|\n",
    "|np.int64|int64_t|整数（-9223372036854775808至9223372036854775807）|\n",
    "|np.uint8|uint8_t|无符号整数（0到255）|\n",
    "|np.uint16|uint16_t|无符号整数（0到65535）|\n",
    "|np.uint32|uint32_t|无符号整数（0到4294967295）|\n",
    "|np.uint64|uint64_t|无符号整数（0到18446744073709551615）|\n",
    "|np.intp|intptr_t|用于索引的整数，通常与索引相同 ssize_t|\n",
    "|np.uintp|uintptr_t|整数大到足以容纳指针|\n",
    "|np.float32|float|\t|\n",
    "|np.float64 / np.float_\tdouble|\t|请注意，这与内置python float的精度相匹配|\n",
    "|np.complex64|float complex|复数，由两个32位浮点数（实数和虚数组件）表示|\n",
    "|np.complex128 / np.complex_|double complex|请注意，这与内置python 复合体的精度相匹配|"
   ]
  },
  {
   "cell_type": "markdown",
   "metadata": {},
   "source": [
    "#### 数组"
   ]
  },
  {
   "cell_type": "markdown",
   "metadata": {},
   "source": [
    "数组是Numpy中最重要的数据结构，相当于线性代数中的矩阵或者张量"
   ]
  },
  {
   "cell_type": "markdown",
   "metadata": {},
   "source": [
    "用Numpy创建数组有以下几种办法：\n",
    "* 将`Python array_like`对象转换为Numpy数组\n",
    "* 直接用函数创建\n",
    "* 从磁盘中读取数组\n",
    "* 使用特殊库"
   ]
  },
  {
   "cell_type": "markdown",
   "metadata": {},
   "source": [
    "对数组进行索引有以下方法：\n",
    "* 单个元素进行索引：`x[i]`\n",
    "* 切片索引: `x[i, i+j]`\n",
    "* 使用其他数据进行索引: `x[np.array([a, b, c])]`\n",
    "* 布尔或“掩码”索引: `y[y>a]`"
   ]
  },
  {
   "cell_type": "markdown",
   "metadata": {},
   "source": [
    "Numpy的广播机制：\n",
    "广播机制是为了方便程序员和提高速度而实现的。受某些约束的影响，较小的数组在较大的数组上“广播”，以便它们具有兼容的形状。广播提供了一种矢量化数组操作的方法，以便在C而不是Python中进行循环。它可以在不制作不必要的数据副本的情况下实现这一点，通常导致高效的算法实现。但是，有些情况下广播是一个坏主意，因为它会导致内存使用效率低下，从而减慢计算速度。"
   ]
  },
  {
   "cell_type": "markdown",
   "metadata": {},
   "source": [
    "最简单的广播的例子："
   ]
  },
  {
   "cell_type": "code",
   "execution_count": 3,
   "metadata": {},
   "outputs": [
    {
     "data": {
      "text/plain": [
       "array([2., 4., 6.])"
      ]
     },
     "execution_count": 3,
     "metadata": {},
     "output_type": "execute_result"
    }
   ],
   "source": [
    "import numpy as np\n",
    "a = np.array([1.0, 2.0, 3.0])\n",
    "b = 2.0\n",
    "a * b"
   ]
  },
  {
   "cell_type": "markdown",
   "metadata": {},
   "source": [
    "在上面的示例中，b被拉伸成与a相同形状的数组"
   ]
  },
  {
   "cell_type": "markdown",
   "metadata": {},
   "source": [
    "改变数组的形状\n",
    "* `ndarray.reshape(shape)`\n",
    "* `ndarray.resize(shape)`\n",
    "* `ndarray.flatten()`\n",
    "* `ndarray.ravel()`"
   ]
  },
  {
   "cell_type": "markdown",
   "metadata": {},
   "source": [
    "Numpy的随机函数：\n",
    "* 简单随机数\n",
    "    * `np.random.rand`\n",
    "    * `np.random.randn`\n",
    "    * `np.random.randint`\n",
    "* 生成器\n",
    "    * `np.random.seed`\n",
    "* 排列：\n",
    "    * `np.random.shuffle`\n",
    "* 随机选择：\n",
    "    * `np.random.choice`\n",
    "* 分布：\n",
    "    * `np.random.uniform`\n",
    "    * `np.random.normal`\n",
    "    * `np.random.poisson`"
   ]
  },
  {
   "cell_type": "markdown",
   "metadata": {},
   "source": [
    "数组元素间的运算：\n",
    "* `np.abs(a)`\n",
    "* `np.square(a)`\n",
    "* `np.log(a)`\n",
    "* `np.log2(a)`\n",
    "* `np.log10(a)`\n",
    "* `np.ceil(a)`\n",
    "* `np.rint(a)`\n",
    "* `np.exp(a)`\n",
    "* `np.sign(a)`\n",
    "* `np.mod(a, b)`"
   ]
  },
  {
   "cell_type": "markdown",
   "metadata": {},
   "source": [
    "Numpy统计函数：\n",
    "* `np.mean(x[, axis])`\n",
    "* `np.sum(x[, axis])`\n",
    "* `np.max(x[, axis])`\n",
    "* `np.min(x[, axis])`\n",
    "* `np.std(x[, axis])`\n",
    "* `np.var(x[, axis]`\n",
    "* `np.argmax(x[, axis])`\n",
    "* `np.argmin(x[, axis])`"
   ]
  },
  {
   "cell_type": "markdown",
   "metadata": {},
   "source": [
    "Numpy矩阵：\n",
    "* 创建：`np.mat(a)`（a是一个数组）\n",
    "* 矩阵相乘：`A*B`\n",
    "* 矩阵转置：`A.T`\n",
    "* 矩阵求逆：`A.I`\n",
    "* 奇异值分解：`np.linalg.svd`"
   ]
  },
  {
   "cell_type": "markdown",
   "metadata": {},
   "source": [
    "### Matplotlib"
   ]
  },
  {
   "cell_type": "markdown",
   "metadata": {},
   "source": [
    "导入："
   ]
  },
  {
   "cell_type": "code",
   "execution_count": 2,
   "metadata": {},
   "outputs": [],
   "source": [
    "import matplotlib.pyplot as plt"
   ]
  },
  {
   "cell_type": "markdown",
   "metadata": {},
   "source": [
    "`plt.figure()`创建一个全局绘图区域，并且试它成为当前的绘图对象，传入的参数如下：\n",
    "* `num`:图形编号或名称\n",
    "* `figsize`:绘图对象的宽和高\n",
    "* `dpi`:绘图对象的分辨率，缺省值为80\n",
    "* `facecolor`:背景颜色\n",
    "* `edgecolor`:边框颜色\n",
    "* `frameon`:表示是否显示边框\n",
    "示例："
   ]
  },
  {
   "cell_type": "code",
   "execution_count": 5,
   "metadata": {},
   "outputs": [
    {
     "data": {
      "image/png": "[encoded data removed]",
      "text/plain": [
       "<Figure size 432x288 with 1 Axes>"
      ]
     },
     "metadata": {
      "needs_background": "light"
     },
     "output_type": "display_data"
    }
   ],
   "source": [
    "# 在jupyter中展示图\n",
    "%matplotlib inline\n",
    "# 创建一个全局绘图区域（画布）\n",
    "plt.figure()\n",
    "# 绘制空白区\n",
    "plt.plot()\n",
    "# 显示绘图\n",
    "plt.show()"
   ]
  },
  {
   "cell_type": "markdown",
   "metadata": {},
   "source": [
    "`plt.subplot`函数在全局绘图区域中创建一个子绘图区域:\n",
    "* 当`plt.subplot()`函数中的3个参数都小于10时，可以省略参数间的逗号，用一个三位数来表示\n",
    "* 每个`plt.subplot()`函数只创建一个子图"
   ]
  },
  {
   "cell_type": "markdown",
   "metadata": {},
   "source": [
    "示例：将画布划分为$2\\times 2$的子图区域，并绘制4个子图"
   ]
  },
  {
   "cell_type": "code",
   "execution_count": 13,
   "metadata": {},
   "outputs": [
    {
     "data": {
      "text/plain": [
       "<matplotlib.axes._subplots.AxesSubplot at 0x7fdb18285ee0>"
      ]
     },
     "execution_count": 13,
     "metadata": {},
     "output_type": "execute_result"
    },
    {
     "data": {
      "image/png": "[encoded data removed]",
      "text/plain": [
       "<Figure size 432x288 with 4 Axes>"
      ]
     },
     "metadata": {
      "needs_background": "light"
     },
     "output_type": "display_data"
    }
   ],
   "source": [
    "# 在全局绘图区域内创建子绘图区域\n",
    "plt.subplot(321)\n",
    "plt.subplot(322)\n",
    "plt.subplot(323)\n",
    "plt.subplot(324)"
   ]
  },
  {
   "cell_type": "markdown",
   "metadata": {},
   "source": [
    "设置中文字体：`plt.rcParams[\"font.sans-serif\"] = \"SimHei\"`"
   ]
  },
  {
   "cell_type": "markdown",
   "metadata": {},
   "source": [
    "添加全局标题：`plt.suptitle(\"title\")`"
   ]
  },
  {
   "cell_type": "markdown",
   "metadata": {},
   "source": [
    "添加子标题：`plt.title(\"title)`"
   ]
  },
  {
   "cell_type": "code",
   "execution_count": 17,
   "metadata": {},
   "outputs": [
    {
     "data": {
      "image/png": "[encoded data removed]",
      "text/plain": [
       "<Figure size 432x288 with 4 Axes>"
      ]
     },
     "metadata": {
      "needs_background": "light"
     },
     "output_type": "display_data"
    }
   ],
   "source": [
    "# 示例：将画布划分为2X2的子图区域，并绘制4个子图\n",
    "import matplotlib.pyplot as plt\n",
    "%matplotlib inline \n",
    "\n",
    "plt.suptitle(\"global title\", fontsize=12, color=\"red\", backgroundcolor=\"yellow\")\n",
    "\n",
    "plt.subplot(321)\n",
    "plt.title(\"subtitle1\")\n",
    "\n",
    "plt.subplot(322)\n",
    "plt.title(\"subtitle2\")\n",
    "\n",
    "plt.subplot(323)\n",
    "plt.title(\"subtitle3\")\n",
    "\n",
    "plt.subplot(324)\n",
    "plt.title(\"subtitle4\")\n",
    "\n",
    "plt.tight_layout(rect=[0,0,1,0.9])"
   ]
  },
  {
   "cell_type": "markdown",
   "metadata": {},
   "source": [
    "绘制散点图示例："
   ]
  },
  {
   "cell_type": "code",
   "execution_count": 18,
   "metadata": {},
   "outputs": [
    {
     "data": {
      "text/plain": [
       "Text(0, 0.5, 'y')"
      ]
     },
     "execution_count": 18,
     "metadata": {},
     "output_type": "execute_result"
    },
    {
     "name": "stderr",
     "output_type": "stream",
     "text": [
      "findfont: Font family ['sans-serif'] not found. Falling back to DejaVu Sans.\n",
      "findfont: Font family ['sans-serif'] not found. Falling back to DejaVu Sans.\n"
     ]
    },
    {
     "data": {
      "image/png": "[encoded data removed]",
      "text/plain": [
       "<Figure size 432x288 with 1 Axes>"
      ]
     },
     "metadata": {
      "needs_background": "light"
     },
     "output_type": "display_data"
    }
   ],
   "source": [
    "import numpy as np\n",
    "import matplotlib.pyplot as plt\n",
    "%matplotlib inline\n",
    "\n",
    "# 标准正态分布的散点坐标\n",
    "n = 1024\n",
    "x = np.random.normal(0, 1, n)\n",
    "y = np.random.normal(0, 1, n)\n",
    "\n",
    "# 绘制散点图\n",
    "plt.scatter(x, y, color=\"blue\", marker=\"*\")\n",
    "\n",
    "# 设置标题\n",
    "plt.title(\"normal\", fontsize=20)\n",
    "\n",
    "# 设置文本\n",
    "plt.text(2.5, 2.5, \"Mean: 0\\nvarianc: 1\")\n",
    "\n",
    "# 设置坐标轴范围\n",
    "plt.xlim(-4, 4)\n",
    "plt.ylim(-4, 4)\n",
    "\n",
    "# 设置坐标轴标签\n",
    "plt.xlabel(\"x\", fontsize=14)\n",
    "plt.ylabel(\"y\", fontsize=14)"
   ]
  },
  {
   "cell_type": "markdown",
   "metadata": {},
   "source": [
    "绘制正态分布、均匀分布的散点图："
   ]
  },
  {
   "cell_type": "code",
   "execution_count": 22,
   "metadata": {},
   "outputs": [
    {
     "data": {
      "text/plain": [
       "Text(0, 0.5, 'y')"
      ]
     },
     "execution_count": 22,
     "metadata": {},
     "output_type": "execute_result"
    },
    {
     "data": {
      "image/png": "[encoded data removed]",
      "text/plain": [
       "<Figure size 432x288 with 1 Axes>"
      ]
     },
     "metadata": {
      "needs_background": "light"
     },
     "output_type": "display_data"
    }
   ],
   "source": [
    "import numpy as np\n",
    "import matplotlib.pyplot as plt\n",
    "\n",
    "%matplotlib inline \n",
    "\n",
    "# 正态分布和均匀分布的散点坐标\n",
    "n = 512\n",
    "x1 = np.random.normal(0, 1, n)\n",
    "y1 = np.random.normal(0, 1, n)\n",
    "\n",
    "x2 = np.random.uniform(-4, 4, n)\n",
    "y2 = np.random.uniform(-4, 4, n)\n",
    "\n",
    "# 绘制散点图\n",
    "plt.scatter(x1, y1, color=\"blue\", marker=\"*\", label=\"nornal\")\n",
    "plt.scatter(x2, y2, color=\"green\", marker=\"*\", label=\"uniform\")\n",
    "plt.legend()\n",
    "\n",
    "# 设置标题\n",
    "plt.title(\"normal and uniform\", fontsize=20)\n",
    "\n",
    "# 设置坐标轴范围\n",
    "plt.xlim(-4, 4)\n",
    "plt.ylim(-4, 4)\n",
    "\n",
    "#设置坐标轴标签\n",
    "plt.xlabel(\"x\", fontsize=14)\n",
    "plt.ylabel(\"y\", fontsize=14)"
   ]
  },
  {
   "cell_type": "markdown",
   "metadata": {},
   "source": [
    "另外的一些操作：\n",
    "* 彩色映射：`plt.scatter(x, y, c, cmap)`\n",
    "* 在散点图基础上将相邻点用线段相连接：`plt.plot(x, y, marker, label, linewidth, markersize)`\n",
    "* 柱状图：`plt.bar(left, height, width, facecolor, edgecolor, label)`\n",
    "* 横向条形图：`plt.barh(bottom, width, height, left)`\n",
    "* 饼图：`plt.pie(data, explode)`\n",
    "* 等高线图：`plt.contour(x, y, z)`\n",
    "* 直方图：`plt.hist(x, bins, normed)`"
   ]
  },
  {
   "cell_type": "markdown",
   "metadata": {},
   "source": [
    "plt的更多函数：\n",
    "![](https://tva1.sinaimg.cn/large/007S8ZIlgy1gjiwzo13sbj31o60mcdpl.jpg)"
   ]
  },
  {
   "cell_type": "markdown",
   "metadata": {},
   "source": [
    "### pandas"
   ]
  },
  {
   "cell_type": "markdown",
   "metadata": {},
   "source": [
    "数据类型：\n",
    "* Series：`pd.Series(data, index=index)`\n",
    "* DataFrame: `pd.DataFrame(data=None, index=None, columns=None, dtype=None, copy=False)`"
   ]
  },
  {
   "cell_type": "markdown",
   "metadata": {},
   "source": [
    "`DataFrame`的基本操作：\n",
    "![](https://tva1.sinaimg.cn/large/007S8ZIlgy1gjix7ub0aaj314i0lc0yg.jpg)"
   ]
  },
  {
   "cell_type": "markdown",
   "metadata": {},
   "source": [
    "pandas读写文件：\n",
    "* 写入csv文件：`df.tocsv()`\n",
    "* 读取csv文件：`pd.read_csv()`\n",
    "* 写入Excel文件：`df.to_excel()`\n",
    "* 读取Excel文件：`pd.read_excel()`"
   ]
  },
  {
   "cell_type": "markdown",
   "metadata": {},
   "source": [
    "## 操作说明以下Numpy函数的功能和用法"
   ]
  },
  {
   "cell_type": "markdown",
   "metadata": {},
   "source": [
    "`np.sort`：\n",
    "* 数组按行排序\n",
    "* 数组按列排序\n",
    "* 字典按key排序"
   ]
  },
  {
   "cell_type": "code",
   "execution_count": 3,
   "metadata": {},
   "outputs": [
    {
     "name": "stdout",
     "output_type": "stream",
     "text": [
      "the original array：\n",
      "[[1 4]\n",
      " [2 7]]\n",
      "\n",
      "\n",
      "the array after sorted：\n",
      "[[1 4]\n",
      " [2 7]]\n",
      "\n",
      "\n",
      "the array sorted by column：\n",
      "[[1 4]\n",
      " [2 7]]\n",
      "\n",
      "\n",
      "the original dictionary：\n",
      "[(b'faker', 21) (b'uzi', 25) (b'theshy', 17) (b'chovy', 27)]\n",
      "\n",
      "\n",
      "the dictionary sorted by name：\n",
      "[(b'chovy', 27) (b'faker', 21) (b'theshy', 17) (b'uzi', 25)]\n"
     ]
    }
   ],
   "source": [
    "import numpy as np  \n",
    " \n",
    "a = np.array([[1,4],[2,7]])  \n",
    "print ('the original array：')\n",
    "print (a)\n",
    "print ('\\n')\n",
    "print ('the array after sorted：')\n",
    "print (np.sort(a))\n",
    "print ('\\n')\n",
    "print ('the array sorted by column：')\n",
    "print (np.sort(a, axis =  0))\n",
    "print ('\\n') \n",
    "dt = np.dtype([('name',  'S10'),('age',  int)]) \n",
    "a = np.array([(\"faker\",21),(\"uzi\",25),(\"theshy\",  17),  (\"chovy\",27)], dtype = dt)  \n",
    "print ('the original dictionary：')\n",
    "print (a)\n",
    "print ('\\n')\n",
    "print ('the dictionary sorted by name：')\n",
    "print (np.sort(a, order =  'name'))"
   ]
  },
  {
   "cell_type": "markdown",
   "metadata": {},
   "source": [
    "`np.argsort`返回的是数组值从小到大的索引值"
   ]
  },
  {
   "cell_type": "code",
   "execution_count": 8,
   "metadata": {},
   "outputs": [
    {
     "name": "stdout",
     "output_type": "stream",
     "text": [
      "[1 2 0]\n",
      "\n",
      "[[0 1]\n",
      " [1 0]]\n",
      "\n",
      "[[0 1]\n",
      " [0 1]]\n"
     ]
    }
   ],
   "source": [
    "#一维数组\n",
    "x = np.array([3, 1, 2])\n",
    "print(np.argsort(x))\n",
    "print()\n",
    "#二维数组\n",
    "x = np.array([[0, 3], [2, 2]])\n",
    "#按列排序\n",
    "print(np.argsort(x, axis=0))\n",
    "print()\n",
    "#按行排序\n",
    "print(np.argsort(x, axis=1))"
   ]
  },
  {
   "cell_type": "markdown",
   "metadata": {},
   "source": [
    "`np.tile`实现广播机制"
   ]
  },
  {
   "cell_type": "code",
   "execution_count": 23,
   "metadata": {},
   "outputs": [
    {
     "name": "stdout",
     "output_type": "stream",
     "text": [
      "[1 2]\n",
      "\n",
      "[1 2 1 2]\n",
      "\n",
      "[[1 2]]\n",
      "\n",
      "[[1 2 1 2]\n",
      " [1 2 1 2]]\n"
     ]
    }
   ],
   "source": [
    "import numpy as np\n",
    "#向一个维度广播\n",
    "print(np.tile([1,2],1))\n",
    "print()\n",
    "print(np.tile([1,2],2))\n",
    "print()\n",
    "#向两个维度broadcast\n",
    "print(np.tile([1,2],(1,1)))\n",
    "print()\n",
    "print(np.tile([1,2],(2,2)))"
   ]
  },
  {
   "cell_type": "markdown",
   "metadata": {},
   "source": [
    "`np.stack`水平(按列顺序)把数组给堆叠起来"
   ]
  },
  {
   "cell_type": "code",
   "execution_count": 24,
   "metadata": {},
   "outputs": [
    {
     "name": "stdout",
     "output_type": "stream",
     "text": [
      "[1 2 3 4 5 6]\n",
      "\n",
      "[[1 1 1 1]\n",
      " [2 2 2 2]\n",
      " [3 3 3 3]]\n",
      "\n"
     ]
    }
   ],
   "source": [
    "import numpy as np\n",
    "a=[1,2,3]\n",
    "b=[4,5,6]\n",
    "print(np.hstack((a,b)))\n",
    "print()\n",
    "a=[[1],[2],[3]]\n",
    "b=[[1],[2],[3]]\n",
    "c=[[1],[2],[3]]\n",
    "d=[[1],[2],[3]]\n",
    "print(np.hstack((a,b,c,d)))\n",
    "print()"
   ]
  },
  {
   "cell_type": "markdown",
   "metadata": {},
   "source": [
    "`np.vstack`垂直（按照行顺序）的把数组给堆叠起来"
   ]
  },
  {
   "cell_type": "code",
   "execution_count": 25,
   "metadata": {},
   "outputs": [
    {
     "name": "stdout",
     "output_type": "stream",
     "text": [
      "[[1 2 3]\n",
      " [4 5 6]]\n",
      "\n",
      "[[1]\n",
      " [2]\n",
      " [3]\n",
      " [1]\n",
      " [2]\n",
      " [3]\n",
      " [1]\n",
      " [2]\n",
      " [3]\n",
      " [1]\n",
      " [2]\n",
      " [3]]\n"
     ]
    }
   ],
   "source": [
    "import numpy as np\n",
    "a=[1,2,3]\n",
    "b=[4,5,6]\n",
    "print(np.vstack((a,b)))\n",
    "print()\n",
    "a=[[1],[2],[3]]\n",
    "b=[[1],[2],[3]]\n",
    "c=[[1],[2],[3]]\n",
    "d=[[1],[2],[3]]\n",
    "print(np.vstack((a,b,c,d)))"
   ]
  },
  {
   "cell_type": "markdown",
   "metadata": {},
   "source": [
    "`np.r_()`和`np.c_()`用于连接两个矩阵"
   ]
  },
  {
   "cell_type": "code",
   "execution_count": 26,
   "metadata": {},
   "outputs": [
    {
     "name": "stdout",
     "output_type": "stream",
     "text": [
      "(1, 3) (1, 3)\n",
      "a= [[1 2 3]] b= [[4 5 6]]\n",
      "np.c_[a,b]:\n",
      " [[1 2 3 4 5 6]]\n",
      "(1, 6)\n",
      "np.r_[a,b]:\n",
      " [[1 2 3]\n",
      " [4 5 6]]\n",
      "(2, 3)\n"
     ]
    }
   ],
   "source": [
    "import numpy as np\n",
    " \n",
    "a = np.array([1, 2, 3]).reshape(1,3)\n",
    " \n",
    "b = np.array([4, 5, 6]).reshape(1,3)\n",
    " \n",
    "print(a.shape,b.shape)\n",
    " \n",
    "print(\"a=\",a,\"b=\",b)\n",
    " \n",
    "c = np.c_[a,b]\n",
    " \n",
    "print(\"np.c_[a,b]:\\n\",c)\n",
    " \n",
    "print(c.shape)\n",
    " \n",
    "d=np.r_[a,b]\n",
    " \n",
    "print(\"np.r_[a,b]:\\n\",d)\n",
    " \n",
    "print(d.shape)"
   ]
  },
  {
   "cell_type": "markdown",
   "metadata": {},
   "source": [
    "`np.concatenate`用于数组拼接"
   ]
  },
  {
   "cell_type": "code",
   "execution_count": 28,
   "metadata": {},
   "outputs": [
    {
     "data": {
      "text/plain": [
       "array([[1, 2, 5],\n",
       "       [3, 4, 6]])"
      ]
     },
     "execution_count": 28,
     "metadata": {},
     "output_type": "execute_result"
    }
   ],
   "source": [
    "import numpy as np\n",
    "a = np.array([[1, 2], [3, 4]])\n",
    "b = np.array([[5, 6]])\n",
    "np.concatenate((a, b), axis=0)\n",
    "np.concatenate((a, b.T), axis=1)"
   ]
  },
  {
   "cell_type": "markdown",
   "metadata": {},
   "source": [
    "`np.newaxis`在原来的数组上增加一个轴"
   ]
  },
  {
   "cell_type": "code",
   "execution_count": 30,
   "metadata": {},
   "outputs": [
    {
     "name": "stdout",
     "output_type": "stream",
     "text": [
      "(3,) \n",
      " [1 2 3]\n",
      "\n",
      "(3, 1) \n",
      " [[1]\n",
      " [2]\n",
      " [3]]\n",
      "\n",
      "(1, 3) \n",
      " [[1 2 3]]\n",
      "\n"
     ]
    }
   ],
   "source": [
    "import numpy as np\n",
    "a = np.array([1,2,3])\n",
    "print (a.shape,'\\n',a)\n",
    "print()\n",
    "a = np.array([1,2,3])[:,np.newaxis]\n",
    "print (a.shape,'\\n',a)\n",
    "print()\n",
    "a = np.array([1,2,3])[np.newaxis,:]\n",
    "print (a.shape,'\\n',a)\n",
    "print()"
   ]
  },
  {
   "cell_type": "markdown",
   "metadata": {},
   "source": [
    "`np.meshgrid`用于两个坐标轴上的点在平面上画格"
   ]
  },
  {
   "cell_type": "code",
   "execution_count": 33,
   "metadata": {},
   "outputs": [
    {
     "name": "stdout",
     "output_type": "stream",
     "text": [
      "[[0.  0.5 1. ]\n",
      " [0.  0.5 1. ]]\n",
      "\n",
      "[[0. 0. 0.]\n",
      " [1. 1. 1.]]\n"
     ]
    }
   ],
   "source": [
    "nx,ny = (3,2)\n",
    "#从0开始到1结束，返回一个numpy数组,nx代表数组中元素的个数\n",
    "x = np.linspace(0,1,nx)\n",
    "#[ 0.   0.5  1. ]\n",
    "y = np.linspace(0,1,ny)\n",
    "# [0.  1.]\n",
    "xv,yv = np.meshgrid(x,y)\n",
    "print(xv)\n",
    "print()\n",
    "print(yv)"
   ]
  },
  {
   "cell_type": "markdown",
   "metadata": {},
   "source": [
    "## 利用Numpy的分组及统计函数，计算四重奏数据的统计值"
   ]
  },
  {
   "cell_type": "code",
   "execution_count": 35,
   "metadata": {},
   "outputs": [
    {
     "name": "stdout",
     "output_type": "stream",
     "text": [
      "x:\n",
      " [10.  8. 13.  9. 11. 14.  6.  4. 12.  7.  5. 10.  8. 13.  9. 11. 14.  6.\n",
      "  4. 12.  7.  5. 10.  8. 13.  9. 11. 14.  6.  4. 12.  7.  5.  8.  8.  8.\n",
      "  8.  8.  8.  8. 19.  8.  8.  8.]\n",
      "x_sum:  396.0\n",
      "x_min:  4.0\n",
      "x_max:  19.0\n",
      "x_mean:  9.0\n",
      "x_var:  10.0\n",
      "x_std:  3.1622776601683795\n",
      "x_argmax:  7\n",
      "x_argmin:  40\n",
      "\n",
      "y:\n",
      " [ 8.04  6.95  7.58  8.81  8.33  9.96  7.24  4.26 10.84  4.82  5.68  9.14\n",
      "  8.14  8.74  8.77  9.26  8.1   6.13  3.1   9.13  7.26  4.74  7.46  6.77\n",
      " 12.74  7.11  7.81  8.84  6.08  5.39  8.15  6.42  5.73  6.58  5.76  7.71\n",
      "  8.84  8.47  7.04  5.25 12.5   5.56  7.91  6.89]\n",
      "y_sum:  330.03\n",
      "y_min:  3.1\n",
      "y_max:  12.74\n",
      "y_mean:  7.500681818181818\n",
      "y_var:  3.7501745351239673\n",
      "y_std:  1.9365367373545919\n",
      "y_argmax:  18\n",
      "y_argmin:  24\n"
     ]
    }
   ],
   "source": [
    "import numpy as np\n",
    "data = np.loadtxt(\"./data/anscombe.csv\", dtype=np.str, delimiter=\",\")\n",
    "x = np.array(data[1:, 1].astype(np.float))\n",
    "y = np.array(data[1:, 2].astype(np.float))\n",
    "\n",
    "print(\"x:\\n\", x)\n",
    "print(\"x_sum: \", x.sum())\n",
    "print(\"x_min: \", x.min())\n",
    "print(\"x_max: \", x.max())\n",
    "print(\"x_mean: \", x.mean())\n",
    "print(\"x_var: \", x.var())\n",
    "print(\"x_std: \", x.std())\n",
    "print(\"x_argmax: \", x.argmin())\n",
    "print(\"x_argmin: \", x.argmax())\n",
    "print()\n",
    "print(\"y:\\n\", y)\n",
    "print(\"y_sum: \", y.sum())\n",
    "print(\"y_min: \", y.min())\n",
    "print(\"y_max: \", y.max())\n",
    "print(\"y_mean: \", y.mean())\n",
    "print(\"y_var: \", y.var())\n",
    "print(\"y_std: \", y.std())\n",
    "print(\"y_argmax: \", y.argmin())\n",
    "print(\"y_argmin: \", y.argmax())"
   ]
  },
  {
   "cell_type": "markdown",
   "metadata": {},
   "source": [
    "## 用Pandas的分组与统计函数，计算四重奏数据的统计值"
   ]
  },
  {
   "cell_type": "code",
   "execution_count": 36,
   "metadata": {},
   "outputs": [
    {
     "name": "stdout",
     "output_type": "stream",
     "text": [
      "               x          y\n",
      "count  44.000000  44.000000\n",
      "mean    9.000000   7.500682\n",
      "std     3.198837   1.958925\n",
      "min     4.000000   3.100000\n",
      "25%     7.000000   6.117500\n",
      "50%     8.000000   7.520000\n",
      "75%    11.000000   8.747500\n",
      "max    19.000000  12.740000\n",
      "            x                                               y            \\\n",
      "        count mean       std  min  25%  50%   75%   max count      mean   \n",
      "dataset                                                                   \n",
      "I        11.0  9.0  3.316625  4.0  6.5  9.0  11.5  14.0  11.0  7.500909   \n",
      "II       11.0  9.0  3.316625  4.0  6.5  9.0  11.5  14.0  11.0  7.500909   \n",
      "III      11.0  9.0  3.316625  4.0  6.5  9.0  11.5  14.0  11.0  7.500000   \n",
      "IV       11.0  9.0  3.316625  8.0  8.0  8.0   8.0  19.0  11.0  7.500909   \n",
      "\n",
      "                                                   \n",
      "              std   min    25%   50%   75%    max  \n",
      "dataset                                            \n",
      "I        2.031568  4.26  6.315  7.58  8.57  10.84  \n",
      "II       2.031657  3.10  6.695  8.14  8.95   9.26  \n",
      "III      2.030424  5.39  6.250  7.11  7.98  12.74  \n",
      "IV       2.030579  5.25  6.170  7.04  8.19  12.50  \n"
     ]
    }
   ],
   "source": [
    "import pandas as pd\n",
    "data = pd.read_csv(\"./data/anscombe.csv\")\n",
    "print(data.describe())\n",
    "print(data.groupby('dataset').describe())"
   ]
  },
  {
   "cell_type": "markdown",
   "metadata": {},
   "source": [
    "## 利用 Matplotlib 与 Seaborn在给定数据集上完成以下任务"
   ]
  },
  {
   "cell_type": "markdown",
   "metadata": {},
   "source": [
    "### 绘制直方图:房价单价分布"
   ]
  },
  {
   "cell_type": "code",
   "execution_count": 2,
   "metadata": {},
   "outputs": [
    {
     "data": {
      "image/png": "[encoded data removed]",
      "text/plain": [
       "<Figure size 432x288 with 1 Axes>"
      ]
     },
     "metadata": {
      "needs_background": "light"
     },
     "output_type": "display_data"
    }
   ],
   "source": [
    "import pandas as pd\n",
    "import numpy as np\n",
    "import matplotlib.pyplot as plt\n",
    "\n",
    "data = pd.read_csv(\"./data/shenzhenhouse.csv\")\n",
    "\"\"\"\n",
    "绘制直方图\n",
    "data:必选参数，绘图数据\n",
    "bins:直方图的长条形数目，可选项，默认为10\n",
    "normed:是否将得到的直方图向量归一化，可选项，默认为0，代表不归一化，显示频数。normed=1，表示归一化，显示频率。\n",
    "facecolor:长条形的颜色\n",
    "edgecolor:长条形边框的颜色\n",
    "alpha:透明度\n",
    "\"\"\"\n",
    "plt.hist(data[\"单价\"], bins=40, facecolor=\"blue\", edgecolor=\"black\", alpha=0.7)\n",
    "plt.xlabel(\"Interval\")\n",
    "plt.ylabel(\"Frequency/frequency\")\n",
    "plt.title(\"Frequency/frequency distribution histogram\")\n",
    "plt.show()"
   ]
  },
  {
   "cell_type": "markdown",
   "metadata": {},
   "source": [
    "### 绘制箱型图:各区房价分布、不同楼层房价分布"
   ]
  },
  {
   "cell_type": "code",
   "execution_count": 3,
   "metadata": {},
   "outputs": [
    {
     "data": {
      "image/png": "[encoded data removed]",
      "text/plain": [
       "<Figure size 432x288 with 1 Axes>"
      ]
     },
     "metadata": {
      "needs_background": "light"
     },
     "output_type": "display_data"
    }
   ],
   "source": [
    "yantian = data.loc[data.loc[:,\"区\"]==\"盐田\", \"总价\"]\n",
    "nanshan = data.loc[data.loc[:,\"区\"]==\"南山\", \"总价\"]\n",
    "baoan = data.loc[data.loc[:,\"区\"]==\"宝安\", \"总价\"]\n",
    "longgang = data.loc[data.loc[:,\"区\"]==\"龙岗\", \"总价\"]\n",
    "longhua = data.loc[data.loc[:,\"区\"]==\"龙华\", \"总价\"]\n",
    "futian = data.loc[data.loc[:,\"区\"]==\"福田\", \"总价\"]\n",
    "luohu = data.loc[data.loc[:,\"区\"]==\"罗湖\", \"总价\"]\n",
    "# print(yantian.describe())\n",
    "labels = [\"yantain\", \"nanshan\", \"baoan\", \"longgang\", \"longhua\", \"futian\", \"luohu\"]\n",
    "plt.boxplot([yantian, nanshan, baoan, longgang, longhua, futian, luohu], labels=labels)\n",
    "plt.show()"
   ]
  },
  {
   "cell_type": "markdown",
   "metadata": {},
   "source": [
    "### 绘制热力矩阵，查看不同变量之间的相关性强弱"
   ]
  },
  {
   "cell_type": "code",
   "execution_count": 7,
   "metadata": {},
   "outputs": [
    {
     "name": "stderr",
     "output_type": "stream",
     "text": [
      "/home/faker/anaconda3/lib/python3.7/site-packages/matplotlib/backends/backend_agg.py:211: RuntimeWarning: Glyph 19996 missing from current font.\n",
      "  font.set_text(s, 0.0, flags=flags)\n",
      "/home/faker/anaconda3/lib/python3.7/site-packages/matplotlib/backends/backend_agg.py:211: RuntimeWarning: Glyph 21335 missing from current font.\n",
      "  font.set_text(s, 0.0, flags=flags)\n",
      "/home/faker/anaconda3/lib/python3.7/site-packages/matplotlib/backends/backend_agg.py:211: RuntimeWarning: Glyph 21271 missing from current font.\n",
      "  font.set_text(s, 0.0, flags=flags)\n",
      "/home/faker/anaconda3/lib/python3.7/site-packages/matplotlib/backends/backend_agg.py:211: RuntimeWarning: Glyph 35199 missing from current font.\n",
      "  font.set_text(s, 0.0, flags=flags)\n",
      "/home/faker/anaconda3/lib/python3.7/site-packages/matplotlib/backends/backend_agg.py:180: RuntimeWarning: Glyph 19996 missing from current font.\n",
      "  font.set_text(s, 0, flags=flags)\n",
      "/home/faker/anaconda3/lib/python3.7/site-packages/matplotlib/backends/backend_agg.py:180: RuntimeWarning: Glyph 21335 missing from current font.\n",
      "  font.set_text(s, 0, flags=flags)\n",
      "/home/faker/anaconda3/lib/python3.7/site-packages/matplotlib/backends/backend_agg.py:180: RuntimeWarning: Glyph 21271 missing from current font.\n",
      "  font.set_text(s, 0, flags=flags)\n",
      "/home/faker/anaconda3/lib/python3.7/site-packages/matplotlib/backends/backend_agg.py:180: RuntimeWarning: Glyph 35199 missing from current font.\n",
      "  font.set_text(s, 0, flags=flags)\n",
      "/home/faker/anaconda3/lib/python3.7/site-packages/matplotlib/backends/backend_agg.py:211: RuntimeWarning: Glyph 23665 missing from current font.\n",
      "  font.set_text(s, 0.0, flags=flags)\n",
      "/home/faker/anaconda3/lib/python3.7/site-packages/matplotlib/backends/backend_agg.py:211: RuntimeWarning: Glyph 23453 missing from current font.\n",
      "  font.set_text(s, 0.0, flags=flags)\n",
      "/home/faker/anaconda3/lib/python3.7/site-packages/matplotlib/backends/backend_agg.py:211: RuntimeWarning: Glyph 23433 missing from current font.\n",
      "  font.set_text(s, 0.0, flags=flags)\n",
      "/home/faker/anaconda3/lib/python3.7/site-packages/matplotlib/backends/backend_agg.py:211: RuntimeWarning: Glyph 30416 missing from current font.\n",
      "  font.set_text(s, 0.0, flags=flags)\n",
      "/home/faker/anaconda3/lib/python3.7/site-packages/matplotlib/backends/backend_agg.py:211: RuntimeWarning: Glyph 30000 missing from current font.\n",
      "  font.set_text(s, 0.0, flags=flags)\n",
      "/home/faker/anaconda3/lib/python3.7/site-packages/matplotlib/backends/backend_agg.py:211: RuntimeWarning: Glyph 31119 missing from current font.\n",
      "  font.set_text(s, 0.0, flags=flags)\n",
      "/home/faker/anaconda3/lib/python3.7/site-packages/matplotlib/backends/backend_agg.py:211: RuntimeWarning: Glyph 32599 missing from current font.\n",
      "  font.set_text(s, 0.0, flags=flags)\n",
      "/home/faker/anaconda3/lib/python3.7/site-packages/matplotlib/backends/backend_agg.py:211: RuntimeWarning: Glyph 28246 missing from current font.\n",
      "  font.set_text(s, 0.0, flags=flags)\n",
      "/home/faker/anaconda3/lib/python3.7/site-packages/matplotlib/backends/backend_agg.py:211: RuntimeWarning: Glyph 40857 missing from current font.\n",
      "  font.set_text(s, 0.0, flags=flags)\n",
      "/home/faker/anaconda3/lib/python3.7/site-packages/matplotlib/backends/backend_agg.py:211: RuntimeWarning: Glyph 21326 missing from current font.\n",
      "  font.set_text(s, 0.0, flags=flags)\n",
      "/home/faker/anaconda3/lib/python3.7/site-packages/matplotlib/backends/backend_agg.py:211: RuntimeWarning: Glyph 23703 missing from current font.\n",
      "  font.set_text(s, 0.0, flags=flags)\n",
      "/home/faker/anaconda3/lib/python3.7/site-packages/matplotlib/backends/backend_agg.py:180: RuntimeWarning: Glyph 23665 missing from current font.\n",
      "  font.set_text(s, 0, flags=flags)\n",
      "/home/faker/anaconda3/lib/python3.7/site-packages/matplotlib/backends/backend_agg.py:180: RuntimeWarning: Glyph 23453 missing from current font.\n",
      "  font.set_text(s, 0, flags=flags)\n",
      "/home/faker/anaconda3/lib/python3.7/site-packages/matplotlib/backends/backend_agg.py:180: RuntimeWarning: Glyph 23433 missing from current font.\n",
      "  font.set_text(s, 0, flags=flags)\n",
      "/home/faker/anaconda3/lib/python3.7/site-packages/matplotlib/backends/backend_agg.py:180: RuntimeWarning: Glyph 30416 missing from current font.\n",
      "  font.set_text(s, 0, flags=flags)\n",
      "/home/faker/anaconda3/lib/python3.7/site-packages/matplotlib/backends/backend_agg.py:180: RuntimeWarning: Glyph 30000 missing from current font.\n",
      "  font.set_text(s, 0, flags=flags)\n",
      "/home/faker/anaconda3/lib/python3.7/site-packages/matplotlib/backends/backend_agg.py:180: RuntimeWarning: Glyph 31119 missing from current font.\n",
      "  font.set_text(s, 0, flags=flags)\n",
      "/home/faker/anaconda3/lib/python3.7/site-packages/matplotlib/backends/backend_agg.py:180: RuntimeWarning: Glyph 32599 missing from current font.\n",
      "  font.set_text(s, 0, flags=flags)\n",
      "/home/faker/anaconda3/lib/python3.7/site-packages/matplotlib/backends/backend_agg.py:180: RuntimeWarning: Glyph 28246 missing from current font.\n",
      "  font.set_text(s, 0, flags=flags)\n",
      "/home/faker/anaconda3/lib/python3.7/site-packages/matplotlib/backends/backend_agg.py:180: RuntimeWarning: Glyph 40857 missing from current font.\n",
      "  font.set_text(s, 0, flags=flags)\n",
      "/home/faker/anaconda3/lib/python3.7/site-packages/matplotlib/backends/backend_agg.py:180: RuntimeWarning: Glyph 21326 missing from current font.\n",
      "  font.set_text(s, 0, flags=flags)\n",
      "/home/faker/anaconda3/lib/python3.7/site-packages/matplotlib/backends/backend_agg.py:180: RuntimeWarning: Glyph 23703 missing from current font.\n",
      "  font.set_text(s, 0, flags=flags)\n",
      "/home/faker/anaconda3/lib/python3.7/site-packages/matplotlib/backends/backend_agg.py:211: RuntimeWarning: Glyph 26397 missing from current font.\n",
      "  font.set_text(s, 0.0, flags=flags)\n",
      "/home/faker/anaconda3/lib/python3.7/site-packages/matplotlib/backends/backend_agg.py:211: RuntimeWarning: Glyph 21521 missing from current font.\n",
      "  font.set_text(s, 0.0, flags=flags)\n",
      "/home/faker/anaconda3/lib/python3.7/site-packages/matplotlib/backends/backend_agg.py:180: RuntimeWarning: Glyph 26397 missing from current font.\n",
      "  font.set_text(s, 0, flags=flags)\n",
      "/home/faker/anaconda3/lib/python3.7/site-packages/matplotlib/backends/backend_agg.py:180: RuntimeWarning: Glyph 21521 missing from current font.\n",
      "  font.set_text(s, 0, flags=flags)\n",
      "/home/faker/anaconda3/lib/python3.7/site-packages/matplotlib/backends/backend_agg.py:211: RuntimeWarning: Glyph 21306 missing from current font.\n",
      "  font.set_text(s, 0.0, flags=flags)\n",
      "/home/faker/anaconda3/lib/python3.7/site-packages/matplotlib/backends/backend_agg.py:176: RuntimeWarning: Glyph 21306 missing from current font.\n",
      "  font.load_char(ord(s), flags=flags)\n"
     ]
    },
    {
     "data": {
      "image/png": "[encoded data removed]",
      "text/plain": [
       "<Figure size 432x432 with 2 Axes>"
      ]
     },
     "metadata": {
      "needs_background": "light"
     },
     "output_type": "display_data"
    }
   ],
   "source": [
    "import seaborn as sns\n",
    "pt = data.pivot_table(index=\"区\", columns=\"朝向\", values=\"总价\", aggfunc=np.sum)\n",
    "# print(pt)\n",
    "f, (ax) = plt.subplots(figsize=(6,6),nrows=1)\n",
    "cmap = sns.cubehelix_palette(start = 1.5, rot = 3, gamma=0.8, as_cmap = True)\n",
    "sns.heatmap(pt, linewidths = 0.05, ax=ax, vmax=900, vmin=0, cmap=cmap)\n",
    "plt.show()"
   ]
  },
  {
   "cell_type": "markdown",
   "metadata": {},
   "source": [
    "### 绘制累计频率直方图：房价单价分布"
   ]
  },
  {
   "cell_type": "code",
   "execution_count": 9,
   "metadata": {},
   "outputs": [
    {
     "name": "stderr",
     "output_type": "stream",
     "text": [
      "/home/faker/anaconda3/lib/python3.7/site-packages/ipykernel_launcher.py:3: MatplotlibDeprecationWarning: \n",
      "The 'normed' kwarg was deprecated in Matplotlib 2.1 and will be removed in 3.1. Use 'density' instead.\n",
      "  This is separate from the ipykernel package so we can avoid doing imports until\n",
      "/home/faker/anaconda3/lib/python3.7/site-packages/ipykernel_launcher.py:4: MatplotlibDeprecationWarning: \n",
      "The 'normed' kwarg was deprecated in Matplotlib 2.1 and will be removed in 3.1. Use 'density' instead.\n",
      "  after removing the cwd from sys.path.\n"
     ]
    },
    {
     "data": {
      "image/png": "[encoded data removed]",
      "text/plain": [
       "<Figure size 648x432 with 2 Axes>"
      ]
     },
     "metadata": {
      "needs_background": "light"
     },
     "output_type": "display_data"
    }
   ],
   "source": [
    "fig, (ax0, ax1) = plt.subplots(nrows=2, figsize=(9, 6))\n",
    "x = data[\"单价\"]\n",
    "ax0.hist(x,100,normed=1,histtype='bar',facecolor='yellowgreen',alpha=0.75) \n",
    "ax1.hist(x,20,normed=1,histtype='bar',facecolor='pink',alpha=0.75,cumulative=True,rwidth=0.8)\n",
    "plt.show()"
   ]
  },
  {
   "cell_type": "markdown",
   "metadata": {},
   "source": [
    "### 通过可视化方法探索人们最关注什么户型的房子"
   ]
  },
  {
   "cell_type": "code",
   "execution_count": 12,
   "metadata": {},
   "outputs": [
    {
     "data": {
      "image/png": "[encoded data removed]",
      "text/plain": [
       "<Figure size 432x288 with 1 Axes>"
      ]
     },
     "metadata": {
      "needs_background": "light"
     },
     "output_type": "display_data"
    }
   ],
   "source": [
    "group1 = data.loc[:, [\"户型\", \"带看人数\"]].groupby(\"户型\")\n",
    "# print([x for x in group1])\n",
    "price = group1.mean()\n",
    "plt.bar(price.index, price[\"带看人数\"])\n",
    "plt.xlabel(\"huxing\")\n",
    "plt.ylabel(\"daikanrenshu\")\n",
    "plt.title(\"huxing/daikanrenshu\")\n",
    "plt.show()"
   ]
  },
  {
   "cell_type": "markdown",
   "metadata": {},
   "source": [
    "可以看到人们最关注10室2厅的房子，因为这种房子的带看人数的平均值最多"
   ]
  },
  {
   "cell_type": "markdown",
   "metadata": {},
   "source": [
    "### 自定义不同的价格区间绘制分布直方图"
   ]
  },
  {
   "cell_type": "code",
   "execution_count": 14,
   "metadata": {},
   "outputs": [
    {
     "data": {
      "image/png": "[encoded data removed]",
      "text/plain": [
       "<Figure size 432x288 with 1 Axes>"
      ]
     },
     "metadata": {
      "needs_background": "light"
     },
     "output_type": "display_data"
    }
   ],
   "source": [
    "_data = data.loc[(data[\"单价\"]>=30000) & (data[\"单价\"]<70000)]\n",
    "plt.hist(_data[\"单价\"], bins=40, facecolor=\"blue\", edgecolor=\"black\", alpha=0.7)\n",
    "plt.xlabel(\"huxing\")\n",
    "plt.ylabel(\"daikanrenshu\")\n",
    "plt.title(\"huxing/daikanrenshu\")\n",
    "plt.show()"
   ]
  },
  {
   "cell_type": "code",
   "execution_count": null,
   "metadata": {},
   "outputs": [],
   "source": []
  }
 ],
 "metadata": {
  "kernelspec": {
   "display_name": "Python 3",
   "language": "python",
   "name": "python3"
  },
  "language_info": {
   "codemirror_mode": {
    "name": "ipython",
    "version": 3
   },
   "file_extension": ".py",
   "mimetype": "text/x-python",
   "name": "python",
   "nbconvert_exporter": "python",
   "pygments_lexer": "ipython3",
   "version": "3.8.0"
  }
 },
 "nbformat": 4,
 "nbformat_minor": 4
}
