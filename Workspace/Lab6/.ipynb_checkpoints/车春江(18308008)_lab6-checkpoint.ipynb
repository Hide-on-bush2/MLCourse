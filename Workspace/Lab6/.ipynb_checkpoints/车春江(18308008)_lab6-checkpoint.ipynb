{
 "cells": [
  {
   "cell_type": "markdown",
   "metadata": {},
   "source": [
    "# Lab6 Navis Bayes 应用实践"
   ]
  },
  {
   "cell_type": "markdown",
   "metadata": {},
   "source": [
    "## 准备数据"
   ]
  },
  {
   "cell_type": "markdown",
   "metadata": {},
   "source": [
    "### 切分文本成词"
   ]
  },
  {
   "cell_type": "code",
   "execution_count": 1,
   "metadata": {},
   "outputs": [
    {
     "data": {
      "text/plain": [
       "['This',\n",
       " 'book',\n",
       " 'is',\n",
       " 'the',\n",
       " 'best',\n",
       " 'book',\n",
       " 'on',\n",
       " 'Python',\n",
       " 'or',\n",
       " 'M.L.',\n",
       " 'I',\n",
       " 'have',\n",
       " 'ever',\n",
       " 'laid',\n",
       " 'eyes',\n",
       " 'upon.']"
      ]
     },
     "execution_count": 1,
     "metadata": {},
     "output_type": "execute_result"
    }
   ],
   "source": [
    "# 利用string.split()方法切分文本字符串\n",
    "mySent = \"This book is the best book on Python or M.L. I have ever laid eyes upon.\"\n",
    "mySent.split()"
   ]
  },
  {
   "cell_type": "code",
   "execution_count": 2,
   "metadata": {},
   "outputs": [
    {
     "data": {
      "text/plain": [
       "['This',\n",
       " 'book',\n",
       " 'is',\n",
       " 'the',\n",
       " 'best',\n",
       " 'book',\n",
       " 'on',\n",
       " 'Python',\n",
       " 'or',\n",
       " 'M',\n",
       " 'L',\n",
       " 'I',\n",
       " 'have',\n",
       " 'ever',\n",
       " 'laid',\n",
       " 'eyes',\n",
       " 'upon',\n",
       " '']"
      ]
     },
     "execution_count": 2,
     "metadata": {},
     "output_type": "execute_result"
    }
   ],
   "source": [
    "# 利用正则表达式切分,其中的分隔符是除单词、数字外的任意字符串\n",
    "import re\n",
    "regEx = re.compile('\\\\W+')\n",
    "listOfTokens = regEx.split(mySent)\n",
    "listOfTokens"
   ]
  },
  {
   "cell_type": "code",
   "execution_count": 3,
   "metadata": {},
   "outputs": [
    {
     "name": "stdout",
     "output_type": "stream",
     "text": [
      "['hello', 'since', 'you', 'are', 'an', 'owner', 'of', 'at', 'least', 'one', 'google', 'groups', 'group', 'that', 'uses', 'the', 'customized', 'welcome', 'message', 'pages', 'or', 'files', 'we', 'are', 'writing', 'to', 'inform', 'you', 'that', 'we', 'will', 'no', 'longer', 'be', 'supporting', 'these', 'features', 'starting', 'february', '2011', 'we', 'made', 'this', 'decision', 'so', 'that', 'we', 'can', 'focus', 'on', 'improving', 'the', 'core', 'functionalities', 'of', 'google', 'groups', 'mailing', 'lists', 'and', 'forum', 'discussions', 'instead', 'of', 'these', 'features', 'we', 'encourage', 'you', 'to', 'use', 'products', 'that', 'are', 'designed', 'specifically', 'for', 'file', 'storage', 'and', 'page', 'creation', 'such', 'as', 'google', 'docs', 'and', 'google', 'sites', 'for', 'example', 'you', 'can', 'easily', 'create', 'your', 'pages', 'on', 'google', 'sites', 'and', 'share', 'the', 'site', 'http', 'www', 'google', 'com', 'support', 'sites', 'bin', 'answer', 'py', 'hl', 'en', 'answer', '174623', 'with', 'the', 'members', 'of', 'your', 'group', 'you', 'can', 'also', 'store', 'your', 'files', 'on', 'the', 'site', 'by', 'attaching', 'files', 'to', 'pages', 'http', 'www', 'google', 'com', 'support', 'sites', 'bin', 'answer', 'py', 'hl', 'en', 'answer', '90563', 'on', 'the', 'site', 'if', 'you', 're', 'just', 'looking', 'for', 'a', 'place', 'to', 'upload', 'your', 'files', 'so', 'that', 'your', 'group', 'members', 'can', 'download', 'them', 'we', 'suggest', 'you', 'try', 'google', 'docs', 'you', 'can', 'upload', 'files', 'http', 'docs', 'google', 'com', 'support', 'bin', 'answer', 'py', 'hl', 'en', 'answer', '50092', 'and', 'share', 'access', 'with', 'either', 'a', 'group', 'http', 'docs', 'google', 'com', 'support', 'bin', 'answer', 'py', 'hl', 'en', 'answer', '66343', 'or', 'an', 'individual', 'http', 'docs', 'google', 'com', 'support', 'bin', 'answer', 'py', 'hl', 'en', 'answer', '86152', 'assigning', 'either', 'edit', 'or', 'download', 'only', 'access', 'to', 'the', 'files', 'you', 'have', 'received', 'this', 'mandatory', 'email', 'service', 'announcement', 'to', 'update', 'you', 'about', 'important', 'changes', 'to', 'google', 'groups']\n"
     ]
    }
   ],
   "source": [
    "# 列表推导式的应用\n",
    "emailText = open('email/ham/6.txt', encoding=\n",
    " 'ISO-8859-1').read()\n",
    "listOfTokens = regEx.split(emailText)\n",
    "listOfTokens=[tok.lower() for tok in listOfTokens if len(tok) > 0]\n",
    "print(listOfTokens)"
   ]
  },
  {
   "cell_type": "markdown",
   "metadata": {},
   "source": [
    "### 生成词汇表"
   ]
  },
  {
   "cell_type": "code",
   "execution_count": 4,
   "metadata": {},
   "outputs": [
    {
     "data": {
      "text/plain": [
       "['to',\n",
       " 'flea',\n",
       " 'problems',\n",
       " 'my',\n",
       " 'how',\n",
       " 'worthless',\n",
       " 'mr',\n",
       " 'so',\n",
       " 'love',\n",
       " 'is',\n",
       " 'park',\n",
       " 'I',\n",
       " 'posting',\n",
       " 'not',\n",
       " 'buying',\n",
       " 'quit',\n",
       " 'food',\n",
       " 'dalmation',\n",
       " 'ate',\n",
       " 'dog',\n",
       " 'stop',\n",
       " 'him',\n",
       " 'steak',\n",
       " 'has',\n",
       " 'help',\n",
       " 'take',\n",
       " 'cute',\n",
       " 'please',\n",
       " 'stupid',\n",
       " 'maybe',\n",
       " 'garbage',\n",
       " 'licks']"
      ]
     },
     "execution_count": 4,
     "metadata": {},
     "output_type": "execute_result"
    }
   ],
   "source": [
    "# 函数 loadDataSet()生成实验样本集\n",
    "# 函数 createVocabList()建立词汇表\n",
    "import bayes\n",
    "listOPost, listClasses = bayes.loadDataSet()\n",
    "myVocabList = bayes.createVocabList(listOPost)\n",
    "myVocabList"
   ]
  },
  {
   "cell_type": "markdown",
   "metadata": {},
   "source": [
    "### 生成词向量"
   ]
  },
  {
   "cell_type": "code",
   "execution_count": 5,
   "metadata": {},
   "outputs": [
    {
     "name": "stdout",
     "output_type": "stream",
     "text": [
      "[0, 1, 1, 1, 0, 0, 0, 0, 0, 0, 0, 0, 0, 0, 0, 0, 0, 0, 0, 1, 0, 0, 0, 1, 1, 0, 0, 1, 0, 0, 0, 0]\n",
      "[0, 0, 0, 0, 0, 1, 0, 0, 0, 0, 0, 0, 1, 0, 0, 0, 0, 0, 0, 0, 1, 0, 0, 0, 0, 0, 0, 0, 1, 0, 1, 0]\n"
     ]
    }
   ],
   "source": [
    "# 调用 setOfWords2Vec()函数生成词集向量\n",
    "# 构建 listOPost 列表 0 位置对应的词集向量\n",
    "setOfWords2Vec0 = bayes.setOfWords2Vec(myVocabList, listOPost[0])\n",
    "print(setOfWords2Vec0)\n",
    "# 构建 listOPost 列表 3 位置对应的词集向量\n",
    "setOfWords2Vec3 = bayes.setOfWords2Vec(myVocabList, listOPost[3])\n",
    "print(setOfWords2Vec3)"
   ]
  },
  {
   "cell_type": "markdown",
   "metadata": {},
   "source": [
    "## 训练模型"
   ]
  },
  {
   "cell_type": "code",
   "execution_count": 6,
   "metadata": {},
   "outputs": [
    {
     "name": "stdout",
     "output_type": "stream",
     "text": [
      "0.5\n",
      "[0.07692308 0.07692308 0.07692308 0.15384615 0.07692308 0.03846154\n",
      " 0.07692308 0.07692308 0.07692308 0.07692308 0.03846154 0.07692308\n",
      " 0.03846154 0.03846154 0.03846154 0.03846154 0.03846154 0.07692308\n",
      " 0.07692308 0.07692308 0.07692308 0.11538462 0.07692308 0.07692308\n",
      " 0.07692308 0.03846154 0.07692308 0.07692308 0.03846154 0.03846154\n",
      " 0.03846154 0.07692308]\n",
      "[0.0952381  0.04761905 0.04761905 0.04761905 0.04761905 0.14285714\n",
      " 0.04761905 0.04761905 0.04761905 0.04761905 0.0952381  0.04761905\n",
      " 0.0952381  0.0952381  0.0952381  0.0952381  0.0952381  0.04761905\n",
      " 0.04761905 0.14285714 0.0952381  0.0952381  0.04761905 0.04761905\n",
      " 0.04761905 0.0952381  0.04761905 0.04761905 0.19047619 0.0952381\n",
      " 0.0952381  0.04761905]\n"
     ]
    }
   ],
   "source": [
    "# 测试 train()函数,返回两个概率向量和一个概率值\n",
    "# for 循环使用词向量充填 trainMat 列表\n",
    "trainMat = []\n",
    "for postinDoc in listOPost:\n",
    "    trainMat.append(bayes.bagOfWords2Vec (myVocabList, postinDoc))\n",
    "p0V, p1V, pAb = bayes.train(trainMat, listClasses)\n",
    "print(pAb)\n",
    "print(p0V)\n",
    "print(p1V)"
   ]
  },
  {
   "cell_type": "markdown",
   "metadata": {},
   "source": [
    "## 测试模型"
   ]
  },
  {
   "cell_type": "code",
   "execution_count": 7,
   "metadata": {},
   "outputs": [
    {
     "name": "stdout",
     "output_type": "stream",
     "text": [
      "classfication error ['hommies', 'just', 'got', 'phone', 'call', 'from', 'the', 'roofer', 'they', 'will', 'come', 'and', 'spaying', 'the', 'foaming', 'today', 'will', 'dusty', 'pls', 'close', 'all', 'the', 'doors', 'and', 'windows', 'could', 'you', 'help', 'close', 'bathroom', 'window', 'cat', 'window', 'and', 'the', 'sliding', 'door', 'behind', 'the', 'don', 'know', 'how', 'can', 'those', 'cats', 'survive', 'sorry', 'for', 'any', 'inconvenience']\n",
      "classfication error ['linkedin', 'kerry', 'haloney', 'requested', 'add', 'you', 'connection', 'linkedin', 'peter', 'like', 'add', 'you', 'professional', 'network', 'linkedin', 'kerry', 'haloney']\n",
      "classfication error ['saw', 'this', 'the', 'way', 'the', 'coast', 'thought', 'might', 'like', 'hangzhou', 'huge', 'one', 'day', 'wasn', 'enough', 'but', 'got', 'glimpse', 'went', 'inside', 'the', 'china', 'pavilion', 'expo', 'pretty', 'interesting', 'each', 'province', 'has', 'exhibit']\n",
      "classfication error ['been', 'working', 'running', 'website', 'using', 'jquery', 'and', 'the', 'jqplot', 'plugin', 'not', 'too', 'far', 'away', 'from', 'having', 'prototype', 'launch', 'you', 'used', 'jqplot', 'right', 'not', 'think', 'you', 'would', 'like']\n",
      "classfication error ['peter', 'with', 'jose', 'out', 'town', 'you', 'want', 'meet', 'once', 'while', 'keep', 'things', 'going', 'and', 'some', 'interesting', 'stuff', 'let', 'know', 'eugene']\n",
      "classfication error ['this', 'mail', 'was', 'sent', 'from', 'notification', 'only', 'address', 'that', 'cannot', 'accept', 'incoming', 'mail', 'please', 'not', 'reply', 'this', 'message', 'thank', 'you', 'for', 'your', 'online', 'reservation', 'the', 'store', 'you', 'selected', 'has', 'located', 'the', 'item', 'you', 'requested', 'and', 'has', 'placed', 'hold', 'your', 'name', 'please', 'note', 'that', 'all', 'items', 'are', 'held', 'for', 'day', 'please', 'note', 'store', 'prices', 'may', 'differ', 'from', 'those', 'online', 'you', 'have', 'questions', 'need', 'assistance', 'with', 'your', 'reservation', 'please', 'contact', 'the', 'store', 'the', 'phone', 'number', 'listed', 'below', 'you', 'can', 'also', 'access', 'store', 'information', 'such', 'store', 'hours', 'and', 'location', 'the', 'web', 'http', 'www', 'borders', 'com', 'online', 'store', 'storedetailview_98']\n",
      "classfication error ['peter', 'the', 'hotels', 'are', 'the', 'ones', 'that', 'rent', 'out', 'the', 'tent', 'they', 'are', 'all', 'lined', 'the', 'hotel', 'grounds', 'much', 'for', 'being', 'one', 'with', 'nature', 'more', 'like', 'being', 'one', 'with', 'couple', 'dozen', 'tour', 'groups', 'and', 'nature', 'have', 'about', '100m', 'pictures', 'from', 'that', 'trip', 'can', 'through', 'them', 'and', 'get', 'you', 'jpgs', 'favorite', 'scenic', 'pictures', 'where', 'are', 'you', 'and', 'jocelyn', 'now', 'new', 'york', 'will', 'you', 'come', 'tokyo', 'for', 'chinese', 'new', 'year', 'perhaps', 'see', 'the', 'two', 'you', 'then', 'will', 'thailand', 'for', 'winter', 'holiday', 'see', 'mom', 'take', 'care']\n",
      "the error rate is  0.7\n"
     ]
    }
   ],
   "source": [
    "# spamTest()函数完成测试\n",
    "bayes.spamTest()"
   ]
  },
  {
   "cell_type": "markdown",
   "metadata": {},
   "source": [
    "## 操作习题"
   ]
  },
  {
   "cell_type": "markdown",
   "metadata": {},
   "source": [
    "### 实现验证极大似然估计示例"
   ]
  },
  {
   "cell_type": "code",
   "execution_count": 8,
   "metadata": {},
   "outputs": [
    {
     "data": {
      "image/png": "[encoded data removed]",
      "text/plain": [
       "<Figure size 432x288 with 1 Axes>"
      ]
     },
     "metadata": {
      "needs_background": "light"
     },
     "output_type": "display_data"
    },
    {
     "name": "stdout",
     "output_type": "stream",
     "text": [
      "(29.99257394615612, 2.0223823631811446)\n"
     ]
    }
   ],
   "source": [
    "# 实现极大似然估计\n",
    "import numpy as np\n",
    "from scipy.stats import norm\n",
    "import matplotlib.pyplot as plt\n",
    "\n",
    "μ = 30  # 数学期望\n",
    "σ = 2  # 方差\n",
    "x = μ + σ * np.random.randn(10000)  # 正态分布\n",
    "plt.hist(x, bins=100)  # 直方图显示\n",
    "plt.show()\n",
    "print(norm.fit(x))  # 返回极大似然估计，估计出参数约为30和2"
   ]
  },
  {
   "cell_type": "markdown",
   "metadata": {},
   "source": [
    "### 利用sklearn中BernouliNB分类该邮件数据集"
   ]
  },
  {
   "cell_type": "code",
   "execution_count": 13,
   "metadata": {},
   "outputs": [
    {
     "name": "stdout",
     "output_type": "stream",
     "text": [
      "classfication error ['yay', 'you', 'both', 'doing', 'fine', 'working', 'mba', 'design', 'strategy', 'cca', 'top', 'art', 'school', 'new', 'program', 'focusing', 'more', 'right', 'brained', 'creative', 'and', 'strategic', 'approach', 'management', 'the', 'way', 'done', 'today']\n",
      "classfication error ['yeah', 'ready', 'may', 'not', 'here', 'because', 'jar', 'jar', 'has', 'plane', 'tickets', 'germany', 'for']\n",
      "classfication error ['will', 'there', 'the', 'latest']\n",
      "the error rate is  0.3\n",
      "the error rate is  0.0\n",
      "classfication error ['home', 'based', 'business', 'opportunity', 'knocking', 'your', 'door', 'don', 'rude', 'and', 'let', 'this', 'chance', 'you', 'can', 'earn', 'great', 'income', 'and', 'find', 'your', 'financial', 'life', 'transformed', 'learn', 'more', 'here', 'your', 'success', 'work', 'from', 'home', 'finder', 'experts']\n",
      "the error rate is  0.1\n",
      "classfication error ['ryan', 'whybrew', 'commented', 'your', 'status', 'ryan', 'wrote', 'turd', 'ferguson', 'butt', 'horn']\n",
      "the error rate is  0.1\n",
      "the error rate is  0.0\n",
      "classfication error ['ryan', 'whybrew', 'commented', 'your', 'status', 'ryan', 'wrote', 'turd', 'ferguson', 'butt', 'horn']\n",
      "classfication error ['will', 'there', 'the', 'latest']\n",
      "classfication error ['yeah', 'ready', 'may', 'not', 'here', 'because', 'jar', 'jar', 'has', 'plane', 'tickets', 'germany', 'for']\n",
      "the error rate is  0.3\n",
      "the error rate is  0.0\n",
      "the error rate is  0.0\n",
      "the error rate is  0.0\n",
      "classfication error ['home', 'based', 'business', 'opportunity', 'knocking', 'your', 'door', 'don', 'rude', 'and', 'let', 'this', 'chance', 'you', 'can', 'earn', 'great', 'income', 'and', 'find', 'your', 'financial', 'life', 'transformed', 'learn', 'more', 'here', 'your', 'success', 'work', 'from', 'home', 'finder', 'experts']\n",
      "the error rate is  0.1\n",
      "average error rate: 0.09\n"
     ]
    }
   ],
   "source": [
    "from sklearn.naive_bayes import BernoulliNB\n",
    "import numpy as np\n",
    "from bayes import textParse\n",
    "from bayes import createVocabList\n",
    "from bayes import bagOfWords2Vec\n",
    "\n",
    "def myskBernoulliNB():\n",
    "    fullTest = [];docList = [];classList= []\n",
    "    # it only 25 doc in every class\n",
    "    for i in range(1,26): \n",
    "        wordList = textParse(open('email/spam/%d.txt' % i,encoding=\"ISO-8859-1\").read())\n",
    "        docList.append(wordList)\n",
    "        fullTest.extend(wordList)\n",
    "        classList.append(1)\n",
    "        wordList = textParse(open('email/ham/%d.txt' % i,encoding=\"ISO-8859-1\").read())\n",
    "        docList.append(wordList)\n",
    "        fullTest.extend(wordList)\n",
    "        classList.append(0)\n",
    "    # create vocabulary\n",
    "    vocabList = createVocabList(docList)   \n",
    "    trainSet = list(range(50));testSet=[]\n",
    "    # choose 10 sample to test ,it index of trainMat\n",
    "    for i in range(10):\n",
    "        randIndex = int(np.random.uniform(0,len(trainSet)))#num in 0-49\n",
    "        testSet.append(trainSet[randIndex])\n",
    "        del(trainSet[randIndex])\n",
    "    trainMat = []; trainClass = []\n",
    "    for docIndex in trainSet:\n",
    "        trainMat.append(bagOfWords2Vec(vocabList,docList[docIndex]))\n",
    "        trainClass.append(classList[docIndex])\n",
    "    clf=BernoulliNB()\n",
    "    #print(type(np.array(trainMat)))\n",
    "    clf.fit(np.array(trainMat),np.array(trainClass))    \n",
    "    errCount = 0\n",
    "    for docIndex in testSet:\n",
    "        wordVec=bagOfWords2Vec(vocabList,docList[docIndex])\n",
    "        #print(wordVec)\n",
    "        if clf.predict(np.array([wordVec])) != classList[docIndex]:\n",
    "            errCount += 1\n",
    "            print ((\"classfication error\"), docList[docIndex])\n",
    "\n",
    "    print ((\"the error rate is \") , float(errCount)/len(testSet))\n",
    "    return float(errCount)/len(testSet)\n",
    "\n",
    "ave=0\n",
    "for i in range(10):\n",
    "    ave=ave+myskBernoulliNB()\n",
    "print('average error rate:',ave/10)"
   ]
  },
  {
   "cell_type": "markdown",
   "metadata": {},
   "source": [
    "### 将词集向量用 TF-IDF 词向量替代,测试分析结果"
   ]
  },
  {
   "cell_type": "code",
   "execution_count": 15,
   "metadata": {},
   "outputs": [
    {
     "name": "stdout",
     "output_type": "stream",
     "text": [
      "0.9\n"
     ]
    },
    {
     "name": "stderr",
     "output_type": "stream",
     "text": [
      "/home/faker/anaconda3/lib/python3.7/site-packages/ipykernel_launcher.py:45: DeprecationWarning: scipy.mat is deprecated and will be removed in SciPy 2.0.0, use numpy.mat instead\n",
      "/home/faker/anaconda3/lib/python3.7/site-packages/ipykernel_launcher.py:46: DeprecationWarning: scipy.mat is deprecated and will be removed in SciPy 2.0.0, use numpy.mat instead\n"
     ]
    }
   ],
   "source": [
    "from sklearn.naive_bayes import BernoulliNB\n",
    "from sklearn.feature_extraction.text import TfidfTransformer  \n",
    "from sklearn.feature_extraction.text import CountVectorizer\n",
    "import numpy as np\n",
    "import scipy\n",
    "def myskBernoulliNB2():\n",
    "    fullTest = [];docList = [];classList= []\n",
    "    # it only 25 doc in every class\n",
    "    for i in range(1,26): \n",
    "        wordList = open('email/spam/%d.txt' % i,encoding=\"ISO-8859-1\").read()\n",
    "        docList.append(wordList)\n",
    "        fullTest.extend(wordList)\n",
    "        classList.append(1)\n",
    "        wordList = open('email/ham/%d.txt' % i,encoding=\"ISO-8859-1\").read()\n",
    "        docList.append(wordList)\n",
    "        fullTest.extend(wordList)\n",
    "        classList.append(0)\n",
    "    # create vocabulary\n",
    "    vocabList = createVocabList(docList)   \n",
    "    trainSet = list(range(50));testSet=[]\n",
    "    # choose 10 sample to test ,it index of trainMat\n",
    "    for i in range(10):\n",
    "        randIndex = int(np.random.uniform(0,len(trainSet)))#num in 0-49\n",
    "        testSet.append(trainSet[randIndex])\n",
    "        del(trainSet[randIndex])\n",
    "    transformer = TfidfTransformer()\n",
    "    vectorizer = CountVectorizer()\n",
    "    #print(transformer)\n",
    "    #print(docList)\n",
    "    tfidf = transformer.fit_transform(vectorizer.fit_transform(docList)).A\n",
    "    #print(type(tfidf.A))\n",
    "    #print(tfidf.A)\n",
    "    trainmail=[tfidf[i] for i in trainSet]\n",
    "    trainClass=[classList[i] for i in trainSet]\n",
    "    testmail=[tfidf[i] for i in testSet]\n",
    "    testClass=[classList[i] for i in testSet]\n",
    "    #print(np.array(trainmail[1]))\n",
    "    #print(trainmail)\n",
    "    #trainMat.voc=vectorizer.vocabulary_\n",
    "    #print(trainMat)\n",
    "    clf=BernoulliNB()\n",
    "    #print(type(np.array(trainMat)))\n",
    "    #print(type(tfidf))\n",
    "    #print(trainmail)\n",
    "    clf.fit(scipy.mat(trainmail),trainClass)    \n",
    "    print(clf.score(scipy.mat(testmail),testClass))\n",
    "\n",
    "myskBernoulliNB2()"
   ]
  },
  {
   "cell_type": "markdown",
   "metadata": {},
   "source": [
    "### 选择适合的模型对购买计算机示例数据集建模"
   ]
  },
  {
   "cell_type": "code",
   "execution_count": 16,
   "metadata": {},
   "outputs": [
    {
     "name": "stdout",
     "output_type": "stream",
     "text": [
      "[[0, 0, 0, 0], [0, 0, 0, 1], [1, 0, 0, 0], [2, 1, 0, 0], [2, 2, 1, 0], [2, 2, 1, 1], [1, 2, 1, 1], [0, 1, 0, 0], [0, 2, 1, 0], [2, 1, 1, 0], [0, 1, 1, 1], [1, 1, 0, 1], [1, 0, 1, 0], [2, 1, 0, 1]]\n",
      "[0, 0, 1, 1, 1, 0, 1, 0, 1, 1, 1, 1, 1, 0]\n",
      "error rate: 0.35714285714285715\n"
     ]
    }
   ],
   "source": [
    "from sklearn.naive_bayes import MultinomialNB\n",
    "data81=[\"youth high no fair no\",\n",
    "\"youth high no excellent no\",\n",
    "\"middle_aged high no fair yes\",\n",
    "\"senior medium no fair yes\",\n",
    "\"senior low yes fair yes\",\n",
    "\"senior low yes excellent no\",\n",
    "\"middle_aged low yes excellent yes\",\n",
    "\"youth medium no fair no\",\n",
    "\"youth low yes fair yes\",\n",
    "\"senior medium yes fair yes\",\n",
    "\"youth medium yes excellent yes\",\n",
    "\"middle_aged medium no excellent yes\",\n",
    "\"middle_aged high yes fair yes\",\n",
    "\"senior medium no excellent no\",\n",
    "]\n",
    "n=len(data81)\n",
    "mat81=[]\n",
    "cls81=[]\n",
    "for i in range(n):\n",
    "    spl=data81[i].split()\n",
    "    tmp=[spl[j] for j in range(4)]\n",
    "    mat81.append(tmp)\n",
    "    if (spl[4]=='yes'):\n",
    "        cls81.append(1)\n",
    "    else:\n",
    "        cls81.append(0)\n",
    "for j in range(4):\n",
    "    dict={}\n",
    "    cnt=0\n",
    "    for i in range(n):\n",
    "        if not (mat81[i][j] in dict):\n",
    "            dict[mat81[i][j]]=cnt\n",
    "            cnt+=1\n",
    "    for i in range(n):\n",
    "        mat81[i][j]=dict[mat81[i][j]]\n",
    "print(mat81)\n",
    "print(cls81)\n",
    "#mat81=[[1,1],[0,1]]\n",
    "#cls81=[0,1]\n",
    "clf=MultinomialNB()\n",
    "clf.fit(np.array(mat81),np.array(cls81)) \n",
    "err=0\n",
    "tot=0\n",
    "for i in range(n):\n",
    "    tot+=1\n",
    "    if clf.predict(np.array([mat81[i]]))!=cls81[i]:\n",
    "        err+=1\n",
    "print('error rate:',err/tot)"
   ]
  },
  {
   "cell_type": "code",
   "execution_count": null,
   "metadata": {},
   "outputs": [],
   "source": []
  },
  {
   "cell_type": "code",
   "execution_count": null,
   "metadata": {},
   "outputs": [],
   "source": []
  }
 ],
 "metadata": {
  "kernelspec": {
   "display_name": "Python 3",
   "language": "python",
   "name": "python3"
  },
  "language_info": {
   "codemirror_mode": {
    "name": "ipython",
    "version": 3
   },
   "file_extension": ".py",
   "mimetype": "text/x-python",
   "name": "python",
   "nbconvert_exporter": "python",
   "pygments_lexer": "ipython3",
   "version": "3.7.6"
  }
 },
 "nbformat": 4,
 "nbformat_minor": 4
}
